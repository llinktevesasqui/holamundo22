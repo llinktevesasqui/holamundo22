{
 "cells": [
  {
   "cell_type": "code",
   "execution_count": 4,
   "id": "a06f688c",
   "metadata": {},
   "outputs": [
    {
     "name": "stdout",
     "output_type": "stream",
     "text": [
      "hola mundo\n"
     ]
    }
   ],
   "source": [
    "print (\"hola mundo\");\n"
   ]
  },
  {
   "cell_type": "code",
   "execution_count": 5,
   "id": "d215d147",
   "metadata": {},
   "outputs": [
    {
     "name": "stdout",
     "output_type": "stream",
     "text": [
      "2021-09-02 20:15:04.248092\n",
      "20:15:04.248092\n",
      "2021-09-02\n",
      "hora:  20 minuto:  00:00:00\n",
      "2021 9 2\n"
     ]
    }
   ],
   "source": [
    "import datetime\n",
    "\n",
    "hora_fecha_actual = datetime.datetime.now()\n",
    "\n",
    "print(hora_fecha_actual)\n",
    "\n",
    "hora = hora_fecha_actual.time()\n",
    "fecha = hora_fecha_actual.date()\n",
    "\n",
    "print (hora)\n",
    "print (fecha)\n",
    "\n",
    "print ( \"hora: \",hora.hour,\"minuto: \", hora.min)\n",
    "print (fecha.year, fecha.month, fecha.day)\n"
   ]
  },
  {
   "cell_type": "code",
   "execution_count": 6,
   "id": "e46ff248",
   "metadata": {},
   "outputs": [
    {
     "data": {
      "text/plain": [
       "[[0, 6, 9, 7, 4],\n",
       " [9, 4, 9, 8, 1],\n",
       " [3, 7, 7, 4, 3],\n",
       " [9, 2, 6, 8, 2],\n",
       " [8, 8, 4, 3, 4]]"
      ]
     },
     "execution_count": 6,
     "metadata": {},
     "output_type": "execute_result"
    }
   ],
   "source": [
    "import numpy as np\n",
    "from time import time\n",
    "np.random.RandomState(100)\n",
    "arr = np.random.randint(0, 10, size=[200000, 5])\n",
    "data = arr.tolist()\n",
    "data[:5]"
   ]
  },
  {
   "cell_type": "code",
   "execution_count": null,
   "id": "6424c65b",
   "metadata": {},
   "outputs": [],
   "source": []
  }
 ],
 "metadata": {
  "kernelspec": {
   "display_name": "Python 3",
   "language": "python",
   "name": "python3"
  },
  "language_info": {
   "codemirror_mode": {
    "name": "ipython",
    "version": 3
   },
   "file_extension": ".py",
   "mimetype": "text/x-python",
   "name": "python",
   "nbconvert_exporter": "python",
   "pygments_lexer": "ipython3",
   "version": "3.8.8"
  }
 },
 "nbformat": 4,
 "nbformat_minor": 5
}
